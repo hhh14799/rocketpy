{
 "cells": [
  {
   "cell_type": "code",
   "execution_count": 9,
   "metadata": {},
   "outputs": [],
   "source": [
    "# Import statements \n",
    "import rocketpy\n",
    "from rocketpy import Environment, Rocket, SolidMotor, Flight \n",
    "import datetime "
   ]
  },
  {
   "cell_type": "code",
   "execution_count": 10,
   "metadata": {},
   "outputs": [],
   "source": [
    "# Create enviornment object \n",
    "env = Environment(\n",
    "    latitude=32.9901,\n",
    "    longitude=106.9751,\n",
    "    elevation=4600 \n",
    ")"
   ]
  },
  {
   "cell_type": "code",
   "execution_count": 11,
   "metadata": {},
   "outputs": [],
   "source": [
    "# Create rocket object \n",
    "rocket = Rocket(\n",
    "    radius=0.0784, # Outer radius [m]\n",
    "    mass=0, # Mass without motor [kg]\n",
    "    inertia=(0, 0, 0) # Moment of inertia (x, y, z = axis of symmetry) [kg/m^2]\n",
    "    power_off_drag=\"\"; # Power off drag [] \n",
    ") "
   ]
  },
  {
   "cell_type": "code",
   "execution_count": 12,
   "metadata": {},
   "outputs": [],
   "source": [
    "# Create solid motor object \n",
    "motor = SolidMotor(\n",
    "    thrust_source=\"RocketPy/data/motors/Cesaroni_M1670.eng\",\n",
    "    dry_mass=1.815,\n",
    "    dry_inertia=(0.125, 0.125, 0.002),\n",
    "    center_of_dry_mass_position=0.317,\n",
    "    grains_center_of_mass_position=0.397,\n",
    "    burn_time=3.9,\n",
    "    grain_number=5,\n",
    "    grain_separation=0.005,\n",
    "    grain_density=1815,\n",
    "    grain_outer_radius=0.033,\n",
    "    grain_initial_inner_radius=0.015,\n",
    "    grain_initial_height=0.12,\n",
    "    nozzle_radius=0.033,\n",
    "    throat_radius=0.011,\n",
    "    interpolation_method=\"linear\",\n",
    "    nozzle_position=0,\n",
    "    coordinate_system_orientation=\"nozzle_to_combustion_chamber\",\n",
    ") \n"
   ]
  },
  {
   "cell_type": "code",
   "execution_count": 13,
   "metadata": {},
   "outputs": [],
   "source": [
    "# Create flight simulation object \n",
    "#flight = Flight(\n",
    "    \n",
    "#)"
   ]
  }
 ],
 "metadata": {
  "kernelspec": {
   "display_name": "Python 3",
   "language": "python",
   "name": "python3"
  },
  "language_info": {
   "codemirror_mode": {
    "name": "ipython",
    "version": 3
   },
   "file_extension": ".py",
   "mimetype": "text/x-python",
   "name": "python",
   "nbconvert_exporter": "python",
   "pygments_lexer": "ipython3",
   "version": "3.12.0"
  }
 },
 "nbformat": 4,
 "nbformat_minor": 2
}
